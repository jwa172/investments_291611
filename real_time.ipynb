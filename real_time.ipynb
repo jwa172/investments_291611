{
 "cells": [
  {
   "cell_type": "markdown",
   "id": "32c837d4",
   "metadata": {},
   "source": [
    "### USD/JPYレートのライブアクションプロット\n",
    "\n",
    "以下は、Pythonの `yfinance` ライブラリを使用してUSD/JPY為替レートのライブアクションプロットを実装したものです。このコードは、金融APIから最新のデータを取得し、リアルタイムでプロットを更新します。\n"
   ]
  },
  {
   "cell_type": "code",
   "execution_count": 1,
   "id": "353161bc",
   "metadata": {},
   "outputs": [
    {
     "data": {
      "text/html": [
       "\n",
       "        <iframe\n",
       "            width=\"100%\"\n",
       "            height=\"650\"\n",
       "            src=\"http://127.0.0.1:8050/\"\n",
       "            frameborder=\"0\"\n",
       "            allowfullscreen\n",
       "            \n",
       "        ></iframe>\n",
       "        "
      ],
      "text/plain": [
       "<IPython.lib.display.IFrame at 0x13de2d2a0>"
      ]
     },
     "metadata": {},
     "output_type": "display_data"
    }
   ],
   "source": [
    "import dash\n",
    "from dash import dcc, html\n",
    "from dash.dependencies import Output, Input, State\n",
    "import yfinance as yf\n",
    "import plotly.graph_objs as go\n",
    "import pandas as pd\n",
    "\n",
    "# Constants\n",
    "ticker = yf.Ticker(\"USDJPY=X\")\n",
    "\n",
    "app = dash.Dash(__name__)\n",
    "app.title = \"USD/JPY Live Chart\"\n",
    "\n",
    "app.layout = html.Div([\n",
    "\n",
    "    html.Div([\n",
    "        dcc.Checklist(\n",
    "            id='sma-toggle',\n",
    "            options=[{'label': '5-min SMA', 'value': 'SMA_5'},\n",
    "                     {'label': '10-min SMA', 'value': 'SMA_10'}],\n",
    "            value=['SMA_5'],  # SMA shown by default\n",
    "        ),\n",
    "    ], style={'marginBottom': '10px'}),\n",
    "\n",
    "    dcc.Graph(id='live-graph'),\n",
    "    dcc.Interval(\n",
    "        id='interval-component',\n",
    "        interval=1*1000,  # 1 minute in milliseconds\n",
    "        n_intervals=0\n",
    "    )\n",
    "])\n",
    "\n",
    "@app.callback(\n",
    "    Output('live-graph', 'figure'),\n",
    "    Input('interval-component', 'n_intervals'),\n",
    "    State('sma-toggle', 'value')\n",
    ")\n",
    "def update_graph(n, sma_toggle):\n",
    "    try:\n",
    "        \n",
    "        data = ticker.history(period=\"1d\", interval=\"1m\").tail(20)\n",
    "        data['SMA_5'] = data['Close'].rolling(window=5).mean()\n",
    "        data['SMA_10'] = data['Close'].rolling(window=10).mean()\n",
    "\n",
    "        fig = go.Figure()\n",
    "\n",
    "        latest_time = data.index[-1]\n",
    "        latest_rate = data['Close'].iloc[-1]\n",
    "\n",
    "        # Add the figures\n",
    "        fig.add_trace(go.Scatter(x=data.index, y=data['Close'], mode='lines+markers', name='USD/JPY'))\n",
    "\n",
    "        # Conditionally add SMA line\n",
    "        if 'SMA_5' in sma_toggle:\n",
    "            fig.add_trace(go.Scatter(\n",
    "                x=data.index,\n",
    "                y=data['SMA_5'],\n",
    "                mode='lines',\n",
    "                name='5-min SMA',\n",
    "                line=dict(dash='dash')\n",
    "            ))\n",
    "        \n",
    "        if 'SMA_10' in sma_toggle:\n",
    "            fig.add_trace(go.Scatter(\n",
    "                x=data.index,\n",
    "                y=data['SMA_10'],\n",
    "                mode='lines',\n",
    "                name='10-min SMA',\n",
    "                line=dict(dash='dot')\n",
    "            ))\n",
    "\n",
    "        # Change y axis\n",
    "        fig.update_yaxes(title_text='Rate', range=[data['Close'].min() - 0.1, data['Close'].max() + 0.1])\n",
    "\n",
    "        # Label all x ticks\n",
    "        fig.update_xaxes(tickvals=data.index, ticktext=[t.strftime('%H:%M') for t in data.index], tickangle=315)\n",
    "        \n",
    "        # Label latest point\n",
    "        fig.add_trace(go.Scatter(\n",
    "            x=[latest_time],\n",
    "            y=[latest_rate],\n",
    "            mode='markers+text',\n",
    "            name='Current Rate',\n",
    "            text=[f\"{latest_rate:.4f}\"],\n",
    "            textposition=\"top center\",\n",
    "            marker=dict(size=10, color='red')\n",
    "        ))\n",
    "\n",
    "        fig.update_layout(title='USD/JPY (Live) with SMA', xaxis_title='Time', yaxis_title='Rate')\n",
    "\n",
    "        return fig\n",
    "\n",
    "    except Exception as e:\n",
    "        print(\"Error:\", e)\n",
    "        return go.Figure()\n",
    "\n",
    "if __name__ == '__main__':\n",
    "    app.run(debug=True)"
   ]
  },
  {
   "cell_type": "code",
   "execution_count": 2,
   "id": "bf323dfd",
   "metadata": {},
   "outputs": [
    {
     "data": {
      "application/vnd.jupyter.widget-view+json": {
       "model_id": "8f5b64e306914f9581f966358834fa33",
       "version_major": 2,
       "version_minor": 0
      },
      "text/plain": [
       "Button(description='Trade', style=ButtonStyle())"
      ]
     },
     "metadata": {},
     "output_type": "display_data"
    },
    {
     "data": {
      "application/vnd.jupyter.widget-view+json": {
       "model_id": "6fe4523dfeb3486cba1108c65dbeb50b",
       "version_major": 2,
       "version_minor": 0
      },
      "text/plain": [
       "Output()"
      ]
     },
     "metadata": {},
     "output_type": "display_data"
    }
   ],
   "source": [
    "import yfinance as yf\n",
    "import ipywidgets as widgets\n",
    "from IPython.display import display, clear_output\n",
    "\n",
    "# The list to store values\n",
    "my_list = []\n",
    "\n",
    "# Output widget to show list updates\n",
    "output = widgets.Output()\n",
    "\n",
    "# Button widget\n",
    "add_button = widgets.Button(description=\"Trade\")\n",
    "\n",
    "# Function to handle button click\n",
    "def on_button_click(b):\n",
    "\n",
    "    # Get the latest USD/JPY rate\n",
    "    latest_close = (\n",
    "        yf.Ticker(\"USDJPY=X\")\n",
    "        .history(period=\"1d\", interval=\"1m\")\n",
    "        .tail(1)\n",
    "        .iloc[-1]['Close']\n",
    "    )\n",
    "    my_list.append(f'{latest_close:.4f}')\n",
    "    with output:\n",
    "        clear_output()\n",
    "        print(f\"Current list: {my_list}\")\n",
    "\n",
    "# Assign the click event\n",
    "add_button.on_click(on_button_click)\n",
    "\n",
    "# Display the widgets\n",
    "display(add_button, output)\n"
   ]
  },
  {
   "cell_type": "code",
   "execution_count": null,
   "id": "6fa34fe2",
   "metadata": {},
   "outputs": [],
   "source": [
    "# Get profit\n",
    "\n",
    "def calc_profit(trades):\n",
    "    if len(trades) < 2:\n",
    "        return \"Not enough data to calculate profit.\"\n",
    "    \n",
    "    # Convert strings to floats\n",
    "    trades = [float(x) for x in trades]\n",
    "\n",
    "    buys = [trades[i] for i in range(0, len(trades), 2)]\n",
    "    sells = [trades[i] for i in range(1, len(trades), 2)]\n",
    "    \n",
    "    # Vector of buy-sells\n",
    "    profit = sum(sells[i] - buys[i] for i in range(len(buys)))\n",
    "\n",
    "    return f\"Profit: {profit:.4f}\"\n",
    "\n",
    "calc_profit(my_list)"
   ]
  }
 ],
 "metadata": {
  "kernelspec": {
   "display_name": "base",
   "language": "python",
   "name": "python3"
  },
  "language_info": {
   "codemirror_mode": {
    "name": "ipython",
    "version": 3
   },
   "file_extension": ".py",
   "mimetype": "text/x-python",
   "name": "python",
   "nbconvert_exporter": "python",
   "pygments_lexer": "ipython3",
   "version": "3.10.13"
  }
 },
 "nbformat": 4,
 "nbformat_minor": 5
}
